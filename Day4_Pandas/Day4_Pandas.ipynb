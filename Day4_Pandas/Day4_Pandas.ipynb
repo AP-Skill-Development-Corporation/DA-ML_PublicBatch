{
 "cells": [
  {
   "cell_type": "markdown",
   "metadata": {},
   "source": [
    "# Pandas\n",
    "Pandas is a library built using NumPy specifically for data analysis. You'll be using Pandas heavily for data manipulation, visualisation, building machine learning models, etc. \n",
    "\n",
    "There are two main data structures in Pandas - Series and Dataframes. The default way to store data is dataframes, and thus manipulating dataframes quickly is probably the most important skill set for data analysis. \n",
    "\n",
    "*Source: https://pandas.pydata.org/pandas-docs/stable/overview.html*\n",
    "\n",
    "In this section, you will study:\n",
    "1. The pandas Series (similar to a numpy array)\n",
    "    * Creating a pandas series\n",
    "    * Indexing series\n",
    "2. Dataframes \n",
    "    * Creating dataframes from dictionaries\n",
    "    * Importing CSV data files as pandas dataframes\n",
    "    * Reading and summarising dataframes\n",
    "    * Sorting dataframes "
   ]
  },
  {
   "cell_type": "code",
   "execution_count": null,
   "metadata": {},
   "outputs": [],
   "source": []
  }
 ],
 "metadata": {
  "kernelspec": {
   "display_name": "Python 3",
   "language": "python",
   "name": "python3"
  },
  "language_info": {
   "codemirror_mode": {
    "name": "ipython",
    "version": 3
   },
   "file_extension": ".py",
   "mimetype": "text/x-python",
   "name": "python",
   "nbconvert_exporter": "python",
   "pygments_lexer": "ipython3",
   "version": "3.8.3"
  }
 },
 "nbformat": 4,
 "nbformat_minor": 4
}
