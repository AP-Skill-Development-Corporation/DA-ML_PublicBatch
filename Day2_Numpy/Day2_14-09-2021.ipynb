{
 "cells": [
  {
   "attachments": {
    "numpy_axes.jpg": {
     "image/jpeg": "[encoded data removed]"
    }
   },
   "cell_type": "markdown",
   "metadata": {},
   "source": [
    "# NumPy \n",
    "\n",
    "NumPy (or Numpy) is a Linear Algebra Library for Python, the reason it is so important for Data Science with Python is that almost all of the libraries in the PyData Ecosystem rely on NumPy as one of their main building blocks.\n",
    "\n",
    "Numpy is also incredibly fast, as it has bindings to C libraries. For more info on why you would want to use Arrays instead of lists, check out this great [StackOverflow post](http://stackoverflow.com/questions/993984/why-numpy-instead-of-python-lists).\n",
    "\n",
    "We will only learn the basics of NumPy, to get started we need to install it!\n",
    "\n",
    "## What's Numpy?\n",
    "\n",
    "scipy\n",
    "\n",
    "Numerical Python, popularly known as Numpy has been designed to carry out mathematical computations at a faster and easier rate.\n",
    "\n",
    "### How to install Numpy ?\n",
    "\n",
    "```pip install numpy```\n",
    "\n",
    "#### Why Numpy when we have “Lists” ?\n",
    "\n",
    "- Size – Numpy data structures take less space\n",
    "- Performance – They are inherently faster than lists.\n",
    "- Functionality – Scipy and Numpy have optimized functions.\n",
    "- Vectorization of the operations \n",
    "\n",
    "\n",
    "Ndarray is multidimensional object which can contain only single data type objects.\n",
    "![numpy_axes.jpg](attachment:numpy_axes.jpg)"
   ]
  },
  {
   "cell_type": "markdown",
   "metadata": {},
   "source": [
    "### Creating arrays \n",
    "- using List \n",
    "- using Tuples\n",
    "\n",
    "### Methods  in Numpy\n",
    "\n",
    "**Attributes :**  \n",
    "- shape\n",
    "- size\n",
    "- ndim\n",
    "- len\n",
    "- dtype\n",
    "- dtype.name\n",
    "\n",
    "**Slicing and Dicing & indexing :**\n",
    "- subsets\n",
    "- selecting rows & columns\n",
    "- Extracting single element\n",
    "- Fancy Indexing\n",
    "\n",
    "\n",
    "**Arthmetic Operations :**\n",
    "- add\n",
    "- subtract\n",
    "- multiply\n",
    "- divide\n",
    "- exp\n",
    "- log\n",
    "- sin\n",
    "- cos\n",
    "- tan\n",
    "- sqrt\n",
    "**Iterating array**\n",
    "- nditer\n",
    "\n",
    "\n",
    "**Aggregations :**\n",
    "- sum\n",
    "- min(axis = 1)\n",
    "- max(axis = 0)\n",
    "- median\n",
    "- std\n",
    "\n",
    "**Initial Placeholders :**\n",
    "creating different arrays using default methods\n",
    "- zeros\n",
    "- ones\n",
    "- full\n",
    "- eye\n",
    "- linspace\n",
    "- empty\n",
    "- random.random\n",
    "- arange\n",
    "- random.randint\n",
    "- logspace\n",
    "- choice \n",
    "- Nonzero\n",
    "- \n",
    "\n",
    "**Sorting Arrays :**\n",
    "- sort\n",
    "- sort(axis =0)\n",
    "\n",
    "\n",
    "\n",
    "**Array Manipulation :**\n",
    "- Transposing\n",
    "- changing shape (ravel & reshape)\n",
    "- adding/ removing elemnts\n",
    "    - append\n",
    "    - insert\n",
    "    - delete\n",
    "- Combining array\n",
    "    - concatenate\n",
    "    - hstack\n",
    "    - vstack\n",
    "    - ravel\n",
    "    - flatten\n",
    "    \n",
    "**Saving & Loading files :**\n",
    "- save('file_name', array)\n",
    "- load('file_name.npy')\n",
    "\n",
    " "
   ]
  },
  {
   "cell_type": "code",
   "execution_count": 1,
   "metadata": {},
   "outputs": [
    {
     "name": "stdout",
     "output_type": "stream",
     "text": [
      "Requirement already satisfied: numpy in c:\\users\\lavan\\anaconda3\\lib\\site-packages (1.18.5)\n",
      "Note: you may need to restart the kernel to use updated packages.\n"
     ]
    }
   ],
   "source": [
    "pip install numpy"
   ]
  },
  {
   "cell_type": "code",
   "execution_count": 3,
   "metadata": {},
   "outputs": [],
   "source": [
    "import numpy as np"
   ]
  },
  {
   "cell_type": "code",
   "execution_count": 5,
   "metadata": {},
   "outputs": [
    {
     "data": {
      "text/plain": [
       "622"
      ]
     },
     "execution_count": 5,
     "metadata": {},
     "output_type": "execute_result"
    }
   ],
   "source": [
    "len(dir(np)) # 622 methods "
   ]
  },
  {
   "cell_type": "code",
   "execution_count": 7,
   "metadata": {},
   "outputs": [
    {
     "data": {
      "text/plain": [
       "46"
      ]
     },
     "execution_count": 7,
     "metadata": {},
     "output_type": "execute_result"
    }
   ],
   "source": [
    "len(dir([])) #  46 methods"
   ]
  },
  {
   "cell_type": "code",
   "execution_count": 8,
   "metadata": {
    "collapsed": true
   },
   "outputs": [
    {
     "data": {
      "text/plain": [
       "['__add__',\n",
       " '__class__',\n",
       " '__contains__',\n",
       " '__delattr__',\n",
       " '__delitem__',\n",
       " '__dir__',\n",
       " '__doc__',\n",
       " '__eq__',\n",
       " '__format__',\n",
       " '__ge__',\n",
       " '__getattribute__',\n",
       " '__getitem__',\n",
       " '__gt__',\n",
       " '__hash__',\n",
       " '__iadd__',\n",
       " '__imul__',\n",
       " '__init__',\n",
       " '__init_subclass__',\n",
       " '__iter__',\n",
       " '__le__',\n",
       " '__len__',\n",
       " '__lt__',\n",
       " '__mul__',\n",
       " '__ne__',\n",
       " '__new__',\n",
       " '__reduce__',\n",
       " '__reduce_ex__',\n",
       " '__repr__',\n",
       " '__reversed__',\n",
       " '__rmul__',\n",
       " '__setattr__',\n",
       " '__setitem__',\n",
       " '__sizeof__',\n",
       " '__str__',\n",
       " '__subclasshook__',\n",
       " 'append',\n",
       " 'clear',\n",
       " 'copy',\n",
       " 'count',\n",
       " 'extend',\n",
       " 'index',\n",
       " 'insert',\n",
       " 'pop',\n",
       " 'remove',\n",
       " 'reverse',\n",
       " 'sort']"
      ]
     },
     "execution_count": 8,
     "metadata": {},
     "output_type": "execute_result"
    }
   ],
   "source": [
    "dir([])"
   ]
  },
  {
   "cell_type": "code",
   "execution_count": 12,
   "metadata": {},
   "outputs": [
    {
     "name": "stdout",
     "output_type": "stream",
     "text": [
      "5 10 15 20 25 30 35 40 45 50 "
     ]
    }
   ],
   "source": [
    "# Creating 1-D array using List\n",
    "li = [1,2,3,4,5,6,7,8,9,10]\n",
    "li*5\n",
    "for val in li:\n",
    "    print(val*5, end = \" \")"
   ]
  },
  {
   "cell_type": "code",
   "execution_count": 13,
   "metadata": {},
   "outputs": [
    {
     "data": {
      "text/plain": [
       "array([ 1,  2,  3,  4,  5,  6,  7,  8,  9, 10])"
      ]
     },
     "execution_count": 13,
     "metadata": {},
     "output_type": "execute_result"
    }
   ],
   "source": [
    "np.array(li)"
   ]
  },
  {
   "cell_type": "code",
   "execution_count": 16,
   "metadata": {},
   "outputs": [
    {
     "data": {
      "text/plain": [
       "array([ 5, 10, 15, 20, 25, 30, 35, 40, 45, 50])"
      ]
     },
     "execution_count": 16,
     "metadata": {},
     "output_type": "execute_result"
    }
   ],
   "source": [
    "n1 = np.array(li)*5\n",
    "n1"
   ]
  },
  {
   "cell_type": "code",
   "execution_count": 17,
   "metadata": {},
   "outputs": [
    {
     "data": {
      "text/plain": [
       "1"
      ]
     },
     "execution_count": 17,
     "metadata": {},
     "output_type": "execute_result"
    }
   ],
   "source": [
    "n1.ndim  # n - Dimentional "
   ]
  },
  {
   "cell_type": "code",
   "execution_count": 18,
   "metadata": {},
   "outputs": [
    {
     "data": {
      "text/plain": [
       "10"
      ]
     },
     "execution_count": 18,
     "metadata": {},
     "output_type": "execute_result"
    }
   ],
   "source": [
    "n1.size"
   ]
  },
  {
   "cell_type": "code",
   "execution_count": 19,
   "metadata": {},
   "outputs": [
    {
     "data": {
      "text/plain": [
       "10"
      ]
     },
     "execution_count": 19,
     "metadata": {},
     "output_type": "execute_result"
    }
   ],
   "source": [
    "len(n1)"
   ]
  },
  {
   "cell_type": "code",
   "execution_count": 21,
   "metadata": {},
   "outputs": [
    {
     "data": {
      "text/plain": [
       "(10,)"
      ]
     },
     "execution_count": 21,
     "metadata": {},
     "output_type": "execute_result"
    }
   ],
   "source": [
    "n1.shape "
   ]
  },
  {
   "cell_type": "markdown",
   "metadata": {},
   "source": [
    "**Ndarray is multidimensional object which can contain only single data type objects.**"
   ]
  },
  {
   "cell_type": "code",
   "execution_count": 23,
   "metadata": {},
   "outputs": [
    {
     "data": {
      "text/plain": [
       "array(['12', '34', 'Str', '435.32', '9j'], dtype='<U11')"
      ]
     },
     "execution_count": 23,
     "metadata": {},
     "output_type": "execute_result"
    }
   ],
   "source": [
    "l2 = (12,34,\"Str\",435.32,9j)\n",
    "n2 = np.array(l2)\n",
    "n2"
   ]
  },
  {
   "cell_type": "code",
   "execution_count": 24,
   "metadata": {},
   "outputs": [
    {
     "data": {
      "text/plain": [
       "array([ 12.  +0.j,  34.  +0.j, 435.32+0.j,   0.  +9.j])"
      ]
     },
     "execution_count": 24,
     "metadata": {},
     "output_type": "execute_result"
    }
   ],
   "source": [
    "l2 = (12,34,435.32,9j)\n",
    "n2 = np.array(l2)\n",
    "n2"
   ]
  },
  {
   "cell_type": "markdown",
   "metadata": {},
   "source": [
    "**It can be a string type or numeric or integer data type.**\n"
   ]
  },
  {
   "cell_type": "code",
   "execution_count": 25,
   "metadata": {},
   "outputs": [
    {
     "data": {
      "text/plain": [
       "array([ 12.  ,  34.  , 435.32])"
      ]
     },
     "execution_count": 25,
     "metadata": {},
     "output_type": "execute_result"
    }
   ],
   "source": [
    "l2 = (12,34,435.32)\n",
    "n2 = np.array(l2)\n",
    "n2"
   ]
  },
  {
   "cell_type": "code",
   "execution_count": 26,
   "metadata": {},
   "outputs": [
    {
     "data": {
      "text/plain": [
       "array([[1, 2, 3],\n",
       "       [4, 5, 6],\n",
       "       [7, 8, 9]])"
      ]
     },
     "execution_count": 26,
     "metadata": {},
     "output_type": "execute_result"
    }
   ],
   "source": [
    "n3 = np.array([[1,2,3],[4,5,6],[7,8,9]])\n",
    "n3"
   ]
  },
  {
   "cell_type": "code",
   "execution_count": 27,
   "metadata": {},
   "outputs": [
    {
     "data": {
      "text/plain": [
       "2"
      ]
     },
     "execution_count": 27,
     "metadata": {},
     "output_type": "execute_result"
    }
   ],
   "source": [
    "n3.ndim"
   ]
  },
  {
   "cell_type": "code",
   "execution_count": 28,
   "metadata": {},
   "outputs": [
    {
     "data": {
      "text/plain": [
       "(3, 3)"
      ]
     },
     "execution_count": 28,
     "metadata": {},
     "output_type": "execute_result"
    }
   ],
   "source": [
    "n3.shape"
   ]
  },
  {
   "cell_type": "code",
   "execution_count": 30,
   "metadata": {},
   "outputs": [
    {
     "data": {
      "text/plain": [
       "array([[1, 2],\n",
       "       [4, 5],\n",
       "       [7, 8]])"
      ]
     },
     "execution_count": 30,
     "metadata": {},
     "output_type": "execute_result"
    }
   ],
   "source": [
    "n3 = np.array([[1,2],[4,5],[7,8]])\n",
    "n3"
   ]
  },
  {
   "cell_type": "code",
   "execution_count": 32,
   "metadata": {},
   "outputs": [
    {
     "data": {
      "text/plain": [
       "(3, 2)"
      ]
     },
     "execution_count": 32,
     "metadata": {},
     "output_type": "execute_result"
    }
   ],
   "source": [
    "n3.shape # rows,columns"
   ]
  },
  {
   "cell_type": "code",
   "execution_count": 33,
   "metadata": {},
   "outputs": [
    {
     "data": {
      "text/plain": [
       "6"
      ]
     },
     "execution_count": 33,
     "metadata": {},
     "output_type": "execute_result"
    }
   ],
   "source": [
    "n3.size"
   ]
  },
  {
   "cell_type": "code",
   "execution_count": 34,
   "metadata": {},
   "outputs": [
    {
     "data": {
      "text/plain": [
       "dtype('int32')"
      ]
     },
     "execution_count": 34,
     "metadata": {},
     "output_type": "execute_result"
    }
   ],
   "source": [
    "n3.dtype"
   ]
  },
  {
   "cell_type": "code",
   "execution_count": 35,
   "metadata": {},
   "outputs": [
    {
     "data": {
      "text/plain": [
       "'int32'"
      ]
     },
     "execution_count": 35,
     "metadata": {},
     "output_type": "execute_result"
    }
   ],
   "source": [
    "n3.dtype.name"
   ]
  },
  {
   "cell_type": "markdown",
   "metadata": {},
   "source": [
    "### Slicing and Dicing & indexing :\n",
    "\n",
    "- subsets\n",
    "- selecting rows & columns\n",
    "- Extracting single element\n",
    "- Fancy Indexing"
   ]
  },
  {
   "cell_type": "code",
   "execution_count": 36,
   "metadata": {},
   "outputs": [
    {
     "data": {
      "text/plain": [
       "array([[ 1,  2,  3],\n",
       "       [ 2,  3,  4],\n",
       "       [45, 67,  5]])"
      ]
     },
     "execution_count": 36,
     "metadata": {},
     "output_type": "execute_result"
    }
   ],
   "source": [
    "n4 = np.array([[1,2,3],[2,3,4],[45,67,5]])\n",
    "n4"
   ]
  },
  {
   "cell_type": "code",
   "execution_count": 37,
   "metadata": {
    "collapsed": true
   },
   "outputs": [
    {
     "data": {
      "text/plain": [
       "array([1, 2, 3])"
      ]
     },
     "execution_count": 37,
     "metadata": {},
     "output_type": "execute_result"
    }
   ],
   "source": [
    "# subsets\n",
    "n4[0]"
   ]
  },
  {
   "cell_type": "code",
   "execution_count": 38,
   "metadata": {
    "collapsed": true
   },
   "outputs": [
    {
     "data": {
      "text/plain": [
       "array([45, 67,  5])"
      ]
     },
     "execution_count": 38,
     "metadata": {},
     "output_type": "execute_result"
    }
   ],
   "source": [
    "n4[-1]"
   ]
  },
  {
   "cell_type": "code",
   "execution_count": 39,
   "metadata": {},
   "outputs": [
    {
     "data": {
      "text/plain": [
       "array([2, 3, 4])"
      ]
     },
     "execution_count": 39,
     "metadata": {},
     "output_type": "execute_result"
    }
   ],
   "source": [
    "n4[1]"
   ]
  },
  {
   "cell_type": "code",
   "execution_count": 42,
   "metadata": {},
   "outputs": [
    {
     "data": {
      "text/plain": [
       "array([[ 1,  2,  3],\n",
       "       [ 2,  3,  4],\n",
       "       [45, 67,  5]])"
      ]
     },
     "execution_count": 42,
     "metadata": {},
     "output_type": "execute_result"
    }
   ],
   "source": [
    "n4[ : , : ]"
   ]
  },
  {
   "cell_type": "code",
   "execution_count": 43,
   "metadata": {},
   "outputs": [
    {
     "data": {
      "text/plain": [
       "array([ 1,  2, 45])"
      ]
     },
     "execution_count": 43,
     "metadata": {},
     "output_type": "execute_result"
    }
   ],
   "source": [
    "n4[:, 0]"
   ]
  },
  {
   "cell_type": "code",
   "execution_count": 44,
   "metadata": {},
   "outputs": [
    {
     "data": {
      "text/plain": [
       "array([3, 4, 5])"
      ]
     },
     "execution_count": 44,
     "metadata": {},
     "output_type": "execute_result"
    }
   ],
   "source": [
    "n4[:,-1]"
   ]
  },
  {
   "cell_type": "code",
   "execution_count": 45,
   "metadata": {
    "scrolled": true
   },
   "outputs": [
    {
     "ename": "TypeError",
     "evalue": "'tuple' object is not callable",
     "output_type": "error",
     "traceback": [
      "\u001b[1;31m---------------------------------------------------------------------------\u001b[0m",
      "\u001b[1;31mTypeError\u001b[0m                                 Traceback (most recent call last)",
      "\u001b[1;32m<ipython-input-45-250b6394daec>\u001b[0m in \u001b[0;36m<module>\u001b[1;34m\u001b[0m\n\u001b[1;32m----> 1\u001b[1;33m \u001b[0mn4\u001b[0m\u001b[1;33m.\u001b[0m\u001b[0mshape\u001b[0m\u001b[1;33m(\u001b[0m\u001b[1;36m2\u001b[0m\u001b[1;33m,\u001b[0m\u001b[1;36m2\u001b[0m\u001b[1;33m)\u001b[0m\u001b[1;33m\u001b[0m\u001b[1;33m\u001b[0m\u001b[0m\n\u001b[0m",
      "\u001b[1;31mTypeError\u001b[0m: 'tuple' object is not callable"
     ]
    }
   ],
   "source": [
    "n4.shape(2,2)"
   ]
  },
  {
   "cell_type": "markdown",
   "metadata": {},
   "source": [
    "shape, size, ndim, dtype, dtype.name\n",
    "\n",
    "len(), print(), min(), mean()\n"
   ]
  },
  {
   "cell_type": "code",
   "execution_count": 46,
   "metadata": {},
   "outputs": [
    {
     "data": {
      "text/plain": [
       "array([[1, 2],\n",
       "       [2, 3]])"
      ]
     },
     "execution_count": 46,
     "metadata": {},
     "output_type": "execute_result"
    }
   ],
   "source": [
    "n4[0:2,0:2] # always start value inclusive and end value exclusive"
   ]
  },
  {
   "cell_type": "code",
   "execution_count": 48,
   "metadata": {},
   "outputs": [
    {
     "data": {
      "text/plain": [
       "array([], shape=(1, 0), dtype=int32)"
      ]
     },
     "execution_count": 48,
     "metadata": {},
     "output_type": "execute_result"
    }
   ],
   "source": [
    "n4[0:1,1:1]"
   ]
  },
  {
   "cell_type": "code",
   "execution_count": 49,
   "metadata": {},
   "outputs": [
    {
     "data": {
      "text/plain": [
       "array([[ 3,  4],\n",
       "       [67,  5]])"
      ]
     },
     "execution_count": 49,
     "metadata": {},
     "output_type": "execute_result"
    }
   ],
   "source": [
    "n4[1:3,1:3]"
   ]
  },
  {
   "cell_type": "code",
   "execution_count": 50,
   "metadata": {},
   "outputs": [
    {
     "data": {
      "text/plain": [
       "array([[ 1,  2,  3],\n",
       "       [ 2,  3,  4],\n",
       "       [45, 67,  5]])"
      ]
     },
     "execution_count": 50,
     "metadata": {},
     "output_type": "execute_result"
    }
   ],
   "source": [
    "n4"
   ]
  },
  {
   "cell_type": "code",
   "execution_count": 53,
   "metadata": {},
   "outputs": [
    {
     "data": {
      "text/plain": [
       "array([[3]])"
      ]
     },
     "execution_count": 53,
     "metadata": {},
     "output_type": "execute_result"
    }
   ],
   "source": [
    "n4[ 1: 2, 1:2 ]"
   ]
  },
  {
   "cell_type": "code",
   "execution_count": 54,
   "metadata": {},
   "outputs": [
    {
     "data": {
      "text/plain": [
       "array([67])"
      ]
     },
     "execution_count": 54,
     "metadata": {},
     "output_type": "execute_result"
    }
   ],
   "source": [
    "n4[2,1:2]"
   ]
  },
  {
   "cell_type": "code",
   "execution_count": 55,
   "metadata": {},
   "outputs": [
    {
     "data": {
      "text/plain": [
       "5"
      ]
     },
     "execution_count": 55,
     "metadata": {},
     "output_type": "execute_result"
    }
   ],
   "source": [
    "n4[2,2]"
   ]
  },
  {
   "cell_type": "code",
   "execution_count": 56,
   "metadata": {},
   "outputs": [
    {
     "data": {
      "text/plain": [
       "5"
      ]
     },
     "execution_count": 56,
     "metadata": {},
     "output_type": "execute_result"
    }
   ],
   "source": [
    "n4[-1,-1]"
   ]
  },
  {
   "cell_type": "markdown",
   "metadata": {},
   "source": [
    "positive slicing starts from 0\n",
    "negative slicing starts from -1"
   ]
  },
  {
   "cell_type": "code",
   "execution_count": 62,
   "metadata": {},
   "outputs": [
    {
     "data": {
      "text/plain": [
       "array([67,  3])"
      ]
     },
     "execution_count": 62,
     "metadata": {},
     "output_type": "execute_result"
    }
   ],
   "source": [
    "n4[[2,1],[1]]"
   ]
  },
  {
   "cell_type": "code",
   "execution_count": 60,
   "metadata": {},
   "outputs": [
    {
     "data": {
      "text/plain": [
       "array([[ 1,  2,  3],\n",
       "       [ 2,  3,  4],\n",
       "       [45, 67,  5]])"
      ]
     },
     "execution_count": 60,
     "metadata": {},
     "output_type": "execute_result"
    }
   ],
   "source": [
    "n4"
   ]
  },
  {
   "cell_type": "markdown",
   "metadata": {},
   "source": [
    "## Arthmetic Operations :\n",
    "\n",
    "- add\n",
    "- subtract\n",
    "- multiply\n",
    "- divide\n",
    "- exp\n",
    "- log\n",
    "- sin\n",
    "- cos\n",
    "- tan\n",
    "- sqrt Iterating array\n",
    "- nditer"
   ]
  },
  {
   "cell_type": "code",
   "execution_count": 63,
   "metadata": {},
   "outputs": [
    {
     "data": {
      "text/plain": [
       "array([101, 102, 103, 103, 104, 105, 105, 156])"
      ]
     },
     "execution_count": 63,
     "metadata": {},
     "output_type": "execute_result"
    }
   ],
   "source": [
    "n5 = np.array([1,2,3,3,4,5,5,56])\n",
    "n5+100"
   ]
  },
  {
   "cell_type": "code",
   "execution_count": 64,
   "metadata": {},
   "outputs": [
    {
     "data": {
      "text/plain": [
       "array([  2,   4,   6,   6,   8,  10,  10, 112])"
      ]
     },
     "execution_count": 64,
     "metadata": {},
     "output_type": "execute_result"
    }
   ],
   "source": [
    "n5*2"
   ]
  },
  {
   "cell_type": "code",
   "execution_count": 65,
   "metadata": {},
   "outputs": [
    {
     "data": {
      "text/plain": [
       "array([ 0.2,  0.4,  0.6,  0.6,  0.8,  1. ,  1. , 11.2])"
      ]
     },
     "execution_count": 65,
     "metadata": {},
     "output_type": "execute_result"
    }
   ],
   "source": [
    "n5/5"
   ]
  },
  {
   "cell_type": "code",
   "execution_count": 66,
   "metadata": {},
   "outputs": [
    {
     "data": {
      "text/plain": [
       "array([-1,  0,  1,  1,  2,  3,  3, 54])"
      ]
     },
     "execution_count": 66,
     "metadata": {},
     "output_type": "execute_result"
    }
   ],
   "source": [
    "n5-2"
   ]
  },
  {
   "cell_type": "code",
   "execution_count": 68,
   "metadata": {},
   "outputs": [
    {
     "data": {
      "text/plain": [
       "array([2.71828183e+00, 7.38905610e+00, 2.00855369e+01, 2.00855369e+01,\n",
       "       5.45981500e+01, 1.48413159e+02, 1.48413159e+02, 2.09165950e+24])"
      ]
     },
     "execution_count": 68,
     "metadata": {},
     "output_type": "execute_result"
    }
   ],
   "source": [
    "np.exp(n5)"
   ]
  },
  {
   "cell_type": "code",
   "execution_count": 69,
   "metadata": {},
   "outputs": [
    {
     "data": {
      "text/plain": [
       "array([0.        , 0.69314718, 1.09861229, 1.09861229, 1.38629436,\n",
       "       1.60943791, 1.60943791, 4.02535169])"
      ]
     },
     "execution_count": 69,
     "metadata": {},
     "output_type": "execute_result"
    }
   ],
   "source": [
    "np.log(n5)"
   ]
  },
  {
   "cell_type": "code",
   "execution_count": 70,
   "metadata": {},
   "outputs": [
    {
     "data": {
      "text/plain": [
       "array([ 0.84147098,  0.90929743,  0.14112001,  0.14112001, -0.7568025 ,\n",
       "       -0.95892427, -0.95892427, -0.521551  ])"
      ]
     },
     "execution_count": 70,
     "metadata": {},
     "output_type": "execute_result"
    }
   ],
   "source": [
    "np.sin(n5)"
   ]
  },
  {
   "cell_type": "code",
   "execution_count": 71,
   "metadata": {},
   "outputs": [
    {
     "data": {
      "text/plain": [
       "array([ 0.54030231, -0.41614684, -0.9899925 , -0.9899925 , -0.65364362,\n",
       "        0.28366219,  0.28366219,  0.85322011])"
      ]
     },
     "execution_count": 71,
     "metadata": {},
     "output_type": "execute_result"
    }
   ],
   "source": [
    "np.cos(n5)"
   ]
  },
  {
   "cell_type": "code",
   "execution_count": 72,
   "metadata": {},
   "outputs": [
    {
     "data": {
      "text/plain": [
       "array([ 1.55740772, -2.18503986, -0.14254654, -0.14254654,  1.15782128,\n",
       "       -3.38051501, -3.38051501, -0.61127369])"
      ]
     },
     "execution_count": 72,
     "metadata": {},
     "output_type": "execute_result"
    }
   ],
   "source": [
    "np.tan(n5)"
   ]
  },
  {
   "cell_type": "code",
   "execution_count": 73,
   "metadata": {},
   "outputs": [
    {
     "data": {
      "text/plain": [
       "array([1.        , 1.41421356, 1.73205081, 1.73205081, 2.        ,\n",
       "       2.23606798, 2.23606798, 7.48331477])"
      ]
     },
     "execution_count": 73,
     "metadata": {},
     "output_type": "execute_result"
    }
   ],
   "source": [
    "np.sqrt(n5)"
   ]
  },
  {
   "cell_type": "code",
   "execution_count": 79,
   "metadata": {},
   "outputs": [
    {
     "data": {
      "text/plain": [
       "array([0.76159416, 0.96402758, 0.99505475, 0.99505475, 0.9993293 ,\n",
       "       0.9999092 , 0.9999092 , 1.        ])"
      ]
     },
     "execution_count": 79,
     "metadata": {},
     "output_type": "execute_result"
    }
   ],
   "source": [
    "np.tanh(n5)"
   ]
  },
  {
   "cell_type": "code",
   "execution_count": 80,
   "metadata": {},
   "outputs": [
    {
     "data": {
      "text/plain": [
       "True"
      ]
     },
     "execution_count": 80,
     "metadata": {},
     "output_type": "execute_result"
    }
   ],
   "source": [
    "np.any(n5) # It returns true when any of  the element is  True  - or gate"
   ]
  },
  {
   "cell_type": "code",
   "execution_count": 83,
   "metadata": {},
   "outputs": [
    {
     "data": {
      "text/plain": [
       "True"
      ]
     },
     "execution_count": 83,
     "metadata": {},
     "output_type": "execute_result"
    }
   ],
   "source": [
    "np.any([1,2,3,-1])"
   ]
  },
  {
   "cell_type": "code",
   "execution_count": 84,
   "metadata": {},
   "outputs": [
    {
     "data": {
      "text/plain": [
       "True"
      ]
     },
     "execution_count": 84,
     "metadata": {},
     "output_type": "execute_result"
    }
   ],
   "source": [
    "np.all(n5)"
   ]
  },
  {
   "cell_type": "code",
   "execution_count": 85,
   "metadata": {},
   "outputs": [
    {
     "data": {
      "text/plain": [
       "False"
      ]
     },
     "execution_count": 85,
     "metadata": {},
     "output_type": "execute_result"
    }
   ],
   "source": [
    "np.all([12,3,4,0]) # it returns true when all the elements are True else False  - and gate"
   ]
  },
  {
   "cell_type": "code",
   "execution_count": 86,
   "metadata": {
    "scrolled": true
   },
   "outputs": [
    {
     "name": "stdout",
     "output_type": "stream",
     "text": [
      "Help on class nditer in module numpy:\n",
      "\n",
      "class nditer(builtins.object)\n",
      " |  Efficient multi-dimensional iterator object to iterate over arrays.\n",
      " |  To get started using this object, see the\n",
      " |  :ref:`introductory guide to array iteration <arrays.nditer>`.\n",
      " |  \n",
      " |  Parameters\n",
      " |  ----------\n",
      " |  op : ndarray or sequence of array_like\n",
      " |      The array(s) to iterate over.\n",
      " |  \n",
      " |  flags : sequence of str, optional\n",
      " |        Flags to control the behavior of the iterator.\n",
      " |  \n",
      " |        * ``buffered`` enables buffering when required.\n",
      " |        * ``c_index`` causes a C-order index to be tracked.\n",
      " |        * ``f_index`` causes a Fortran-order index to be tracked.\n",
      " |        * ``multi_index`` causes a multi-index, or a tuple of indices\n",
      " |          with one per iteration dimension, to be tracked.\n",
      " |        * ``common_dtype`` causes all the operands to be converted to\n",
      " |          a common data type, with copying or buffering as necessary.\n",
      " |        * ``copy_if_overlap`` causes the iterator to determine if read\n",
      " |          operands have overlap with write operands, and make temporary\n",
      " |          copies as necessary to avoid overlap. False positives (needless\n",
      " |          copying) are possible in some cases.\n",
      " |        * ``delay_bufalloc`` delays allocation of the buffers until\n",
      " |          a reset() call is made. Allows ``allocate`` operands to\n",
      " |          be initialized before their values are copied into the buffers.\n",
      " |        * ``external_loop`` causes the ``values`` given to be\n",
      " |          one-dimensional arrays with multiple values instead of\n",
      " |          zero-dimensional arrays.\n",
      " |        * ``grow_inner`` allows the ``value`` array sizes to be made\n",
      " |          larger than the buffer size when both ``buffered`` and\n",
      " |          ``external_loop`` is used.\n",
      " |        * ``ranged`` allows the iterator to be restricted to a sub-range\n",
      " |          of the iterindex values.\n",
      " |        * ``refs_ok`` enables iteration of reference types, such as\n",
      " |          object arrays.\n",
      " |        * ``reduce_ok`` enables iteration of ``readwrite`` operands\n",
      " |          which are broadcasted, also known as reduction operands.\n",
      " |        * ``zerosize_ok`` allows `itersize` to be zero.\n",
      " |  op_flags : list of list of str, optional\n",
      " |        This is a list of flags for each operand. At minimum, one of\n",
      " |        ``readonly``, ``readwrite``, or ``writeonly`` must be specified.\n",
      " |  \n",
      " |        * ``readonly`` indicates the operand will only be read from.\n",
      " |        * ``readwrite`` indicates the operand will be read from and written to.\n",
      " |        * ``writeonly`` indicates the operand will only be written to.\n",
      " |        * ``no_broadcast`` prevents the operand from being broadcasted.\n",
      " |        * ``contig`` forces the operand data to be contiguous.\n",
      " |        * ``aligned`` forces the operand data to be aligned.\n",
      " |        * ``nbo`` forces the operand data to be in native byte order.\n",
      " |        * ``copy`` allows a temporary read-only copy if required.\n",
      " |        * ``updateifcopy`` allows a temporary read-write copy if required.\n",
      " |        * ``allocate`` causes the array to be allocated if it is None\n",
      " |          in the ``op`` parameter.\n",
      " |        * ``no_subtype`` prevents an ``allocate`` operand from using a subtype.\n",
      " |        * ``arraymask`` indicates that this operand is the mask to use\n",
      " |          for selecting elements when writing to operands with the\n",
      " |          'writemasked' flag set. The iterator does not enforce this,\n",
      " |          but when writing from a buffer back to the array, it only\n",
      " |          copies those elements indicated by this mask.\n",
      " |        * ``writemasked`` indicates that only elements where the chosen\n",
      " |          ``arraymask`` operand is True will be written to.\n",
      " |        * ``overlap_assume_elementwise`` can be used to mark operands that are\n",
      " |          accessed only in the iterator order, to allow less conservative\n",
      " |          copying when ``copy_if_overlap`` is present.\n",
      " |  op_dtypes : dtype or tuple of dtype(s), optional\n",
      " |      The required data type(s) of the operands. If copying or buffering\n",
      " |      is enabled, the data will be converted to/from their original types.\n",
      " |  order : {'C', 'F', 'A', 'K'}, optional\n",
      " |      Controls the iteration order. 'C' means C order, 'F' means\n",
      " |      Fortran order, 'A' means 'F' order if all the arrays are Fortran\n",
      " |      contiguous, 'C' order otherwise, and 'K' means as close to the\n",
      " |      order the array elements appear in memory as possible. This also\n",
      " |      affects the element memory order of ``allocate`` operands, as they\n",
      " |      are allocated to be compatible with iteration order.\n",
      " |      Default is 'K'.\n",
      " |  casting : {'no', 'equiv', 'safe', 'same_kind', 'unsafe'}, optional\n",
      " |      Controls what kind of data casting may occur when making a copy\n",
      " |      or buffering.  Setting this to 'unsafe' is not recommended,\n",
      " |      as it can adversely affect accumulations.\n",
      " |  \n",
      " |      * 'no' means the data types should not be cast at all.\n",
      " |      * 'equiv' means only byte-order changes are allowed.\n",
      " |      * 'safe' means only casts which can preserve values are allowed.\n",
      " |      * 'same_kind' means only safe casts or casts within a kind,\n",
      " |        like float64 to float32, are allowed.\n",
      " |      * 'unsafe' means any data conversions may be done.\n",
      " |  op_axes : list of list of ints, optional\n",
      " |      If provided, is a list of ints or None for each operands.\n",
      " |      The list of axes for an operand is a mapping from the dimensions\n",
      " |      of the iterator to the dimensions of the operand. A value of\n",
      " |      -1 can be placed for entries, causing that dimension to be\n",
      " |      treated as `newaxis`.\n",
      " |  itershape : tuple of ints, optional\n",
      " |      The desired shape of the iterator. This allows ``allocate`` operands\n",
      " |      with a dimension mapped by op_axes not corresponding to a dimension\n",
      " |      of a different operand to get a value not equal to 1 for that\n",
      " |      dimension.\n",
      " |  buffersize : int, optional\n",
      " |      When buffering is enabled, controls the size of the temporary\n",
      " |      buffers. Set to 0 for the default value.\n",
      " |  \n",
      " |  Attributes\n",
      " |  ----------\n",
      " |  dtypes : tuple of dtype(s)\n",
      " |      The data types of the values provided in `value`. This may be\n",
      " |      different from the operand data types if buffering is enabled.\n",
      " |      Valid only before the iterator is closed.\n",
      " |  finished : bool\n",
      " |      Whether the iteration over the operands is finished or not.\n",
      " |  has_delayed_bufalloc : bool\n",
      " |      If True, the iterator was created with the ``delay_bufalloc`` flag,\n",
      " |      and no reset() function was called on it yet.\n",
      " |  has_index : bool\n",
      " |      If True, the iterator was created with either the ``c_index`` or\n",
      " |      the ``f_index`` flag, and the property `index` can be used to\n",
      " |      retrieve it.\n",
      " |  has_multi_index : bool\n",
      " |      If True, the iterator was created with the ``multi_index`` flag,\n",
      " |      and the property `multi_index` can be used to retrieve it.\n",
      " |  index\n",
      " |      When the ``c_index`` or ``f_index`` flag was used, this property\n",
      " |      provides access to the index. Raises a ValueError if accessed\n",
      " |      and ``has_index`` is False.\n",
      " |  iterationneedsapi : bool\n",
      " |      Whether iteration requires access to the Python API, for example\n",
      " |      if one of the operands is an object array.\n",
      " |  iterindex : int\n",
      " |      An index which matches the order of iteration.\n",
      " |  itersize : int\n",
      " |      Size of the iterator.\n",
      " |  itviews\n",
      " |      Structured view(s) of `operands` in memory, matching the reordered\n",
      " |      and optimized iterator access pattern. Valid only before the iterator\n",
      " |      is closed.\n",
      " |  multi_index\n",
      " |      When the ``multi_index`` flag was used, this property\n",
      " |      provides access to the index. Raises a ValueError if accessed\n",
      " |      accessed and ``has_multi_index`` is False.\n",
      " |  ndim : int\n",
      " |      The dimensions of the iterator.\n",
      " |  nop : int\n",
      " |      The number of iterator operands.\n",
      " |  operands : tuple of operand(s)\n",
      " |      The array(s) to be iterated over. Valid only before the iterator is\n",
      " |      closed.\n",
      " |  shape : tuple of ints\n",
      " |      Shape tuple, the shape of the iterator.\n",
      " |  value\n",
      " |      Value of ``operands`` at current iteration. Normally, this is a\n",
      " |      tuple of array scalars, but if the flag ``external_loop`` is used,\n",
      " |      it is a tuple of one dimensional arrays.\n",
      " |  \n",
      " |  Notes\n",
      " |  -----\n",
      " |  `nditer` supersedes `flatiter`.  The iterator implementation behind\n",
      " |  `nditer` is also exposed by the NumPy C API.\n",
      " |  \n",
      " |  The Python exposure supplies two iteration interfaces, one which follows\n",
      " |  the Python iterator protocol, and another which mirrors the C-style\n",
      " |  do-while pattern.  The native Python approach is better in most cases, but\n",
      " |  if you need the coordinates or index of an iterator, use the C-style pattern.\n",
      " |  \n",
      " |  Examples\n",
      " |  --------\n",
      " |  Here is how we might write an ``iter_add`` function, using the\n",
      " |  Python iterator protocol:\n",
      " |  \n",
      " |  >>> def iter_add_py(x, y, out=None):\n",
      " |  ...     addop = np.add\n",
      " |  ...     it = np.nditer([x, y, out], [],\n",
      " |  ...                 [['readonly'], ['readonly'], ['writeonly','allocate']])\n",
      " |  ...     with it:\n",
      " |  ...         for (a, b, c) in it:\n",
      " |  ...             addop(a, b, out=c)\n",
      " |  ...     return it.operands[2]\n",
      " |  \n",
      " |  Here is the same function, but following the C-style pattern:\n",
      " |  \n",
      " |  >>> def iter_add(x, y, out=None):\n",
      " |  ...    addop = np.add\n",
      " |  ...    it = np.nditer([x, y, out], [],\n",
      " |  ...                [['readonly'], ['readonly'], ['writeonly','allocate']])\n",
      " |  ...    with it:\n",
      " |  ...        while not it.finished:\n",
      " |  ...            addop(it[0], it[1], out=it[2])\n",
      " |  ...            it.iternext()\n",
      " |  ...        return it.operands[2]\n",
      " |  \n",
      " |  Here is an example outer product function:\n",
      " |  \n",
      " |  >>> def outer_it(x, y, out=None):\n",
      " |  ...     mulop = np.multiply\n",
      " |  ...     it = np.nditer([x, y, out], ['external_loop'],\n",
      " |  ...             [['readonly'], ['readonly'], ['writeonly', 'allocate']],\n",
      " |  ...             op_axes=[list(range(x.ndim)) + [-1] * y.ndim,\n",
      " |  ...                      [-1] * x.ndim + list(range(y.ndim)),\n",
      " |  ...                      None])\n",
      " |  ...     with it:\n",
      " |  ...         for (a, b, c) in it:\n",
      " |  ...             mulop(a, b, out=c)\n",
      " |  ...         return it.operands[2]\n",
      " |  \n",
      " |  >>> a = np.arange(2)+1\n",
      " |  >>> b = np.arange(3)+1\n",
      " |  >>> outer_it(a,b)\n",
      " |  array([[1, 2, 3],\n",
      " |         [2, 4, 6]])\n",
      " |  \n",
      " |  Here is an example function which operates like a \"lambda\" ufunc:\n",
      " |  \n",
      " |  >>> def luf(lamdaexpr, *args, **kwargs):\n",
      " |  ...    '''luf(lambdaexpr, op1, ..., opn, out=None, order='K', casting='safe', buffersize=0)'''\n",
      " |  ...    nargs = len(args)\n",
      " |  ...    op = (kwargs.get('out',None),) + args\n",
      " |  ...    it = np.nditer(op, ['buffered','external_loop'],\n",
      " |  ...            [['writeonly','allocate','no_broadcast']] +\n",
      " |  ...                            [['readonly','nbo','aligned']]*nargs,\n",
      " |  ...            order=kwargs.get('order','K'),\n",
      " |  ...            casting=kwargs.get('casting','safe'),\n",
      " |  ...            buffersize=kwargs.get('buffersize',0))\n",
      " |  ...    while not it.finished:\n",
      " |  ...        it[0] = lamdaexpr(*it[1:])\n",
      " |  ...        it.iternext()\n",
      " |  ...        return it.operands[0]\n",
      " |  \n",
      " |  >>> a = np.arange(5)\n",
      " |  >>> b = np.ones(5)\n",
      " |  >>> luf(lambda i,j:i*i + j/2, a, b)\n",
      " |  array([  0.5,   1.5,   4.5,   9.5,  16.5])\n",
      " |  \n",
      " |  If operand flags `\"writeonly\"` or `\"readwrite\"` are used the\n",
      " |  operands may be views into the original data with the\n",
      " |  `WRITEBACKIFCOPY` flag. In this case `nditer` must be used as a\n",
      " |  context manager or the `nditer.close` method must be called before\n",
      " |  using the result. The temporary data will be written back to the\n",
      " |  original data when the `__exit__` function is called but not before:\n",
      " |  \n",
      " |  >>> a = np.arange(6, dtype='i4')[::-2]\n",
      " |  >>> with np.nditer(a, [],\n",
      " |  ...        [['writeonly', 'updateifcopy']],\n",
      " |  ...        casting='unsafe',\n",
      " |  ...        op_dtypes=[np.dtype('f4')]) as i:\n",
      " |  ...    x = i.operands[0]\n",
      " |  ...    x[:] = [-1, -2, -3]\n",
      " |  ...    # a still unchanged here\n",
      " |  >>> a, x\n",
      " |  (array([-1, -2, -3], dtype=int32), array([-1., -2., -3.], dtype=float32))\n",
      " |  \n",
      " |  It is important to note that once the iterator is exited, dangling\n",
      " |  references (like `x` in the example) may or may not share data with\n",
      " |  the original data `a`. If writeback semantics were active, i.e. if\n",
      " |  `x.base.flags.writebackifcopy` is `True`, then exiting the iterator\n",
      " |  will sever the connection between `x` and `a`, writing to `x` will\n",
      " |  no longer write to `a`. If writeback semantics are not active, then\n",
      " |  `x.data` will still point at some part of `a.data`, and writing to\n",
      " |  one will affect the other.\n",
      " |  \n",
      " |  Context management and the `close` method appeared in version 1.15.0.\n",
      " |  \n",
      " |  Methods defined here:\n",
      " |  \n",
      " |  __copy__(...)\n",
      " |  \n",
      " |  __delitem__(self, key, /)\n",
      " |      Delete self[key].\n",
      " |  \n",
      " |  __enter__(...)\n",
      " |  \n",
      " |  __exit__(...)\n",
      " |  \n",
      " |  __getitem__(self, key, /)\n",
      " |      Return self[key].\n",
      " |  \n",
      " |  __init__(self, /, *args, **kwargs)\n",
      " |      Initialize self.  See help(type(self)) for accurate signature.\n",
      " |  \n",
      " |  __iter__(self, /)\n",
      " |      Implement iter(self).\n",
      " |  \n",
      " |  __len__(self, /)\n",
      " |      Return len(self).\n",
      " |  \n",
      " |  __next__(self, /)\n",
      " |      Implement next(self).\n",
      " |  \n",
      " |  __setitem__(self, key, value, /)\n",
      " |      Set self[key] to value.\n",
      " |  \n",
      " |  close(...)\n",
      " |      close()\n",
      " |      \n",
      " |      Resolve all writeback semantics in writeable operands.\n",
      " |      \n",
      " |      .. versionadded:: 1.15.0\n",
      " |      \n",
      " |      See Also\n",
      " |      --------\n",
      " |      \n",
      " |      :ref:`nditer-context-manager`\n",
      " |  \n",
      " |  copy(...)\n",
      " |      copy()\n",
      " |      \n",
      " |      Get a copy of the iterator in its current state.\n",
      " |      \n",
      " |      Examples\n",
      " |      --------\n",
      " |      >>> x = np.arange(10)\n",
      " |      >>> y = x + 1\n",
      " |      >>> it = np.nditer([x, y])\n",
      " |      >>> next(it)\n",
      " |      (array(0), array(1))\n",
      " |      >>> it2 = it.copy()\n",
      " |      >>> next(it2)\n",
      " |      (array(1), array(2))\n",
      " |  \n",
      " |  debug_print(...)\n",
      " |      debug_print()\n",
      " |      \n",
      " |      Print the current state of the `nditer` instance and debug info to stdout.\n",
      " |  \n",
      " |  enable_external_loop(...)\n",
      " |      enable_external_loop()\n",
      " |      \n",
      " |      When the \"external_loop\" was not used during construction, but\n",
      " |      is desired, this modifies the iterator to behave as if the flag\n",
      " |      was specified.\n",
      " |  \n",
      " |  iternext(...)\n",
      " |      iternext()\n",
      " |      \n",
      " |      Check whether iterations are left, and perform a single internal iteration\n",
      " |      without returning the result.  Used in the C-style pattern do-while\n",
      " |      pattern.  For an example, see `nditer`.\n",
      " |      \n",
      " |      Returns\n",
      " |      -------\n",
      " |      iternext : bool\n",
      " |          Whether or not there are iterations left.\n",
      " |  \n",
      " |  remove_axis(...)\n",
      " |      remove_axis(i)\n",
      " |      \n",
      " |      Removes axis `i` from the iterator. Requires that the flag \"multi_index\"\n",
      " |      be enabled.\n",
      " |  \n",
      " |  remove_multi_index(...)\n",
      " |      remove_multi_index()\n",
      " |      \n",
      " |      When the \"multi_index\" flag was specified, this removes it, allowing\n",
      " |      the internal iteration structure to be optimized further.\n",
      " |  \n",
      " |  reset(...)\n",
      " |      reset()\n",
      " |      \n",
      " |      Reset the iterator to its initial state.\n",
      " |  \n",
      " |  ----------------------------------------------------------------------\n",
      " |  Static methods defined here:\n",
      " |  \n",
      " |  __new__(*args, **kwargs) from builtins.type\n",
      " |      Create and return a new object.  See help(type) for accurate signature.\n",
      " |  \n",
      " |  ----------------------------------------------------------------------\n",
      " |  Data descriptors defined here:\n",
      " |  \n",
      " |  dtypes\n",
      " |  \n",
      " |  finished\n",
      " |  \n",
      " |  has_delayed_bufalloc\n",
      " |  \n",
      " |  has_index\n",
      " |  \n",
      " |  has_multi_index\n",
      " |  \n",
      " |  index\n",
      " |  \n",
      " |  iterationneedsapi\n",
      " |  \n",
      " |  iterindex\n",
      " |  \n",
      " |  iterrange\n",
      " |  \n",
      " |  itersize\n",
      " |  \n",
      " |  itviews\n",
      " |  \n",
      " |  multi_index\n",
      " |  \n",
      " |  ndim\n",
      " |  \n",
      " |  nop\n",
      " |  \n",
      " |  operands\n",
      " |      operands[`Slice`]\n",
      " |      \n",
      " |      The array(s) to be iterated over. Valid only before the iterator is closed.\n",
      " |  \n",
      " |  shape\n",
      " |  \n",
      " |  value\n",
      "\n"
     ]
    }
   ],
   "source": [
    "help(np.nditer)"
   ]
  },
  {
   "cell_type": "code",
   "execution_count": 87,
   "metadata": {},
   "outputs": [
    {
     "data": {
      "text/plain": [
       "array([ 1,  2,  3,  3,  4,  5,  5, 56])"
      ]
     },
     "execution_count": 87,
     "metadata": {},
     "output_type": "execute_result"
    }
   ],
   "source": [
    "n5"
   ]
  },
  {
   "cell_type": "code",
   "execution_count": 88,
   "metadata": {},
   "outputs": [],
   "source": [
    "n6 = np.nditer(n5)"
   ]
  },
  {
   "cell_type": "code",
   "execution_count": 89,
   "metadata": {},
   "outputs": [
    {
     "data": {
      "text/plain": [
       "<numpy.nditer at 0x25c6ba5dad0>"
      ]
     },
     "execution_count": 89,
     "metadata": {},
     "output_type": "execute_result"
    }
   ],
   "source": [
    "n6"
   ]
  },
  {
   "cell_type": "code",
   "execution_count": 97,
   "metadata": {},
   "outputs": [
    {
     "data": {
      "text/plain": [
       "array(56)"
      ]
     },
     "execution_count": 97,
     "metadata": {},
     "output_type": "execute_result"
    }
   ],
   "source": [
    "next(n6)"
   ]
  },
  {
   "cell_type": "code",
   "execution_count": 98,
   "metadata": {},
   "outputs": [
    {
     "ename": "StopIteration",
     "evalue": "",
     "output_type": "error",
     "traceback": [
      "\u001b[1;31m---------------------------------------------------------------------------\u001b[0m",
      "\u001b[1;31mStopIteration\u001b[0m                             Traceback (most recent call last)",
      "\u001b[1;32m<ipython-input-98-69521c0ee5d0>\u001b[0m in \u001b[0;36m<module>\u001b[1;34m\u001b[0m\n\u001b[1;32m----> 1\u001b[1;33m \u001b[0mnext\u001b[0m\u001b[1;33m(\u001b[0m\u001b[0mn6\u001b[0m\u001b[1;33m)\u001b[0m\u001b[1;33m\u001b[0m\u001b[1;33m\u001b[0m\u001b[0m\n\u001b[0m",
      "\u001b[1;31mStopIteration\u001b[0m: "
     ]
    }
   ],
   "source": [
    "next(n6)"
   ]
  },
  {
   "cell_type": "markdown",
   "metadata": {},
   "source": [
    "### Aggregations :\n",
    "\n",
    "- sum\n",
    "- min(axis = 1)\n",
    "- max(axis = 0)\n",
    "- median\n",
    "- std"
   ]
  },
  {
   "cell_type": "code",
   "execution_count": 99,
   "metadata": {},
   "outputs": [
    {
     "data": {
      "text/plain": [
       "5776"
      ]
     },
     "execution_count": 99,
     "metadata": {},
     "output_type": "execute_result"
    }
   ],
   "source": [
    "l = [23,34,45,5667,7]\n",
    "sum(l)"
   ]
  },
  {
   "cell_type": "code",
   "execution_count": 100,
   "metadata": {},
   "outputs": [
    {
     "data": {
      "text/plain": [
       "7"
      ]
     },
     "execution_count": 100,
     "metadata": {},
     "output_type": "execute_result"
    }
   ],
   "source": [
    "min(l)"
   ]
  },
  {
   "cell_type": "code",
   "execution_count": 101,
   "metadata": {},
   "outputs": [
    {
     "data": {
      "text/plain": [
       "5667"
      ]
     },
     "execution_count": 101,
     "metadata": {},
     "output_type": "execute_result"
    }
   ],
   "source": [
    "max(l)"
   ]
  },
  {
   "cell_type": "code",
   "execution_count": 102,
   "metadata": {
    "collapsed": true
   },
   "outputs": [
    {
     "ename": "NameError",
     "evalue": "name 'mean' is not defined",
     "output_type": "error",
     "traceback": [
      "\u001b[1;31m---------------------------------------------------------------------------\u001b[0m",
      "\u001b[1;31mNameError\u001b[0m                                 Traceback (most recent call last)",
      "\u001b[1;32m<ipython-input-102-0812a091a313>\u001b[0m in \u001b[0;36m<module>\u001b[1;34m\u001b[0m\n\u001b[1;32m----> 1\u001b[1;33m \u001b[0mmean\u001b[0m\u001b[1;33m(\u001b[0m\u001b[0ml\u001b[0m\u001b[1;33m)\u001b[0m\u001b[1;33m\u001b[0m\u001b[1;33m\u001b[0m\u001b[0m\n\u001b[0m",
      "\u001b[1;31mNameError\u001b[0m: name 'mean' is not defined"
     ]
    }
   ],
   "source": [
    "mean(l)"
   ]
  },
  {
   "cell_type": "code",
   "execution_count": 103,
   "metadata": {},
   "outputs": [
    {
     "data": {
      "text/plain": [
       "7"
      ]
     },
     "execution_count": 103,
     "metadata": {},
     "output_type": "execute_result"
    }
   ],
   "source": [
    "n7 = np.array(l)\n",
    "n7.min()"
   ]
  },
  {
   "cell_type": "code",
   "execution_count": 104,
   "metadata": {},
   "outputs": [
    {
     "data": {
      "text/plain": [
       "1155.2"
      ]
     },
     "execution_count": 104,
     "metadata": {},
     "output_type": "execute_result"
    }
   ],
   "source": [
    "n7.mean()"
   ]
  },
  {
   "cell_type": "code",
   "execution_count": 105,
   "metadata": {},
   "outputs": [
    {
     "data": {
      "text/plain": [
       "34.0"
      ]
     },
     "execution_count": 105,
     "metadata": {},
     "output_type": "execute_result"
    }
   ],
   "source": [
    "np.median(n7)"
   ]
  },
  {
   "cell_type": "code",
   "execution_count": 106,
   "metadata": {},
   "outputs": [
    {
     "data": {
      "text/plain": [
       "2255.9349636015663"
      ]
     },
     "execution_count": 106,
     "metadata": {},
     "output_type": "execute_result"
    }
   ],
   "source": [
    "np.std(n7)"
   ]
  },
  {
   "cell_type": "code",
   "execution_count": 107,
   "metadata": {},
   "outputs": [
    {
     "data": {
      "text/plain": [
       "5089242.5600000005"
      ]
     },
     "execution_count": 107,
     "metadata": {},
     "output_type": "execute_result"
    }
   ],
   "source": [
    "np.var(n7)"
   ]
  },
  {
   "cell_type": "code",
   "execution_count": 111,
   "metadata": {},
   "outputs": [
    {
     "data": {
      "text/plain": [
       "1"
      ]
     },
     "execution_count": 111,
     "metadata": {},
     "output_type": "execute_result"
    }
   ],
   "source": [
    "np.mod(100,3)"
   ]
  },
  {
   "cell_type": "code",
   "execution_count": 112,
   "metadata": {
    "collapsed": true
   },
   "outputs": [
    {
     "ename": "AttributeError",
     "evalue": "module 'numpy' has no attribute 'mode'",
     "output_type": "error",
     "traceback": [
      "\u001b[1;31m---------------------------------------------------------------------------\u001b[0m",
      "\u001b[1;31mAttributeError\u001b[0m                            Traceback (most recent call last)",
      "\u001b[1;32m<ipython-input-112-919039c380af>\u001b[0m in \u001b[0;36m<module>\u001b[1;34m\u001b[0m\n\u001b[1;32m----> 1\u001b[1;33m \u001b[0mnp\u001b[0m\u001b[1;33m.\u001b[0m\u001b[0mmode\u001b[0m\u001b[1;33m(\u001b[0m\u001b[0mn7\u001b[0m\u001b[1;33m)\u001b[0m\u001b[1;33m\u001b[0m\u001b[1;33m\u001b[0m\u001b[0m\n\u001b[0m",
      "\u001b[1;32m~\\anaconda3\\lib\\site-packages\\numpy\\__init__.py\u001b[0m in \u001b[0;36m__getattr__\u001b[1;34m(attr)\u001b[0m\n\u001b[0;32m    217\u001b[0m                 \u001b[1;32mreturn\u001b[0m \u001b[0mTester\u001b[0m\u001b[1;33m\u001b[0m\u001b[1;33m\u001b[0m\u001b[0m\n\u001b[0;32m    218\u001b[0m             \u001b[1;32melse\u001b[0m\u001b[1;33m:\u001b[0m\u001b[1;33m\u001b[0m\u001b[1;33m\u001b[0m\u001b[0m\n\u001b[1;32m--> 219\u001b[1;33m                 raise AttributeError(\"module {!r} has no attribute \"\n\u001b[0m\u001b[0;32m    220\u001b[0m                                      \"{!r}\".format(__name__, attr))\n\u001b[0;32m    221\u001b[0m \u001b[1;33m\u001b[0m\u001b[0m\n",
      "\u001b[1;31mAttributeError\u001b[0m: module 'numpy' has no attribute 'mode'"
     ]
    }
   ],
   "source": [
    "np.mode(n7)"
   ]
  },
  {
   "cell_type": "markdown",
   "metadata": {},
   "source": [
    "### Initial Placeholders : creating different arrays using default methods\n",
    "\n"
   ]
  },
  {
   "cell_type": "raw",
   "metadata": {},
   "source": [
    "zeros\n",
    "ones\n",
    "full\n",
    "eye\n",
    "linspace\n",
    "empty\n",
    "random.random\n",
    "arange\n",
    "random.randint\n",
    "logspace\n",
    "choice\n",
    "Nonzero"
   ]
  },
  {
   "cell_type": "code",
   "execution_count": 114,
   "metadata": {},
   "outputs": [
    {
     "data": {
      "text/plain": [
       "array([0., 0., 0., 0., 0.])"
      ]
     },
     "execution_count": 114,
     "metadata": {},
     "output_type": "execute_result"
    }
   ],
   "source": [
    "m1 = np.zeros(5)\n",
    "m1"
   ]
  },
  {
   "cell_type": "code",
   "execution_count": 116,
   "metadata": {
    "collapsed": true
   },
   "outputs": [
    {
     "data": {
      "text/plain": [
       "array([[0, 0, 0, 0, 0],\n",
       "       [0, 0, 0, 0, 0],\n",
       "       [0, 0, 0, 0, 0]])"
      ]
     },
     "execution_count": 116,
     "metadata": {},
     "output_type": "execute_result"
    }
   ],
   "source": [
    "m1 = np.zeros((3,5), dtype = \"int\")\n",
    "m1"
   ]
  },
  {
   "cell_type": "code",
   "execution_count": 117,
   "metadata": {
    "collapsed": true
   },
   "outputs": [
    {
     "data": {
      "text/plain": [
       "array([1., 1., 1.])"
      ]
     },
     "execution_count": 117,
     "metadata": {},
     "output_type": "execute_result"
    }
   ],
   "source": [
    "m2 = np.ones(3)\n",
    "m2\n",
    "# default it returns float values"
   ]
  },
  {
   "cell_type": "code",
   "execution_count": 119,
   "metadata": {
    "collapsed": true
   },
   "outputs": [
    {
     "data": {
      "text/plain": [
       "array([['1', '1', '1', '1'],\n",
       "       ['1', '1', '1', '1'],\n",
       "       ['1', '1', '1', '1']], dtype='<U1')"
      ]
     },
     "execution_count": 119,
     "metadata": {},
     "output_type": "execute_result"
    }
   ],
   "source": [
    "m2 = np.ones((3,4), dtype = \"str\")\n",
    "m2"
   ]
  },
  {
   "cell_type": "code",
   "execution_count": 120,
   "metadata": {},
   "outputs": [
    {
     "data": {
      "text/plain": [
       "array([['Lavanya', 'Lavanya', 'Lavanya', 'Lavanya', 'Lavanya'],\n",
       "       ['Lavanya', 'Lavanya', 'Lavanya', 'Lavanya', 'Lavanya'],\n",
       "       ['Lavanya', 'Lavanya', 'Lavanya', 'Lavanya', 'Lavanya'],\n",
       "       ['Lavanya', 'Lavanya', 'Lavanya', 'Lavanya', 'Lavanya'],\n",
       "       ['Lavanya', 'Lavanya', 'Lavanya', 'Lavanya', 'Lavanya']],\n",
       "      dtype='<U7')"
      ]
     },
     "execution_count": 120,
     "metadata": {},
     "output_type": "execute_result"
    }
   ],
   "source": [
    "m3 = np.full((5,5), \"Lavanya\")\n",
    "m3"
   ]
  },
  {
   "cell_type": "code",
   "execution_count": 129,
   "metadata": {},
   "outputs": [
    {
     "data": {
      "text/plain": [
       "array([[1., 0., 0., 0., 0.],\n",
       "       [0., 1., 0., 0., 0.],\n",
       "       [0., 0., 1., 0., 0.],\n",
       "       [0., 0., 0., 1., 0.],\n",
       "       [0., 0., 0., 0., 1.]])"
      ]
     },
     "execution_count": 129,
     "metadata": {},
     "output_type": "execute_result"
    }
   ],
   "source": [
    "m4 = np.eye(5, dtype = \"double\")  # identity matrics \n",
    "m4"
   ]
  },
  {
   "cell_type": "code",
   "execution_count": 125,
   "metadata": {},
   "outputs": [
    {
     "data": {
      "text/plain": [
       "array([ 1.  ,  5.75, 10.5 , 15.25, 20.  ])"
      ]
     },
     "execution_count": 125,
     "metadata": {},
     "output_type": "execute_result"
    }
   ],
   "source": [
    "m5 = np.linspace(1,20,5) # start value, end value, no. of equal parts \n",
    "m5"
   ]
  },
  {
   "cell_type": "code",
   "execution_count": 126,
   "metadata": {},
   "outputs": [
    {
     "data": {
      "text/plain": [
       "array([ 1.  ,  3.25,  5.5 ,  7.75, 10.  ])"
      ]
     },
     "execution_count": 126,
     "metadata": {},
     "output_type": "execute_result"
    }
   ],
   "source": [
    "m5 = np.linspace(1,10,5) # start value, end value, no. of equal parts \n",
    "m5"
   ]
  },
  {
   "cell_type": "code",
   "execution_count": 136,
   "metadata": {},
   "outputs": [
    {
     "data": {
      "text/plain": [
       "array([1., 0., 0., 0., 1., 0., 0., 0., 1.])"
      ]
     },
     "execution_count": 136,
     "metadata": {},
     "output_type": "execute_result"
    }
   ],
   "source": [
    "m6 = np.empty(9)\n",
    "m6"
   ]
  },
  {
   "cell_type": "code",
   "execution_count": 137,
   "metadata": {},
   "outputs": [],
   "source": [
    "import random"
   ]
  },
  {
   "cell_type": "code",
   "execution_count": 138,
   "metadata": {},
   "outputs": [
    {
     "data": {
      "text/plain": [
       "61"
      ]
     },
     "execution_count": 138,
     "metadata": {},
     "output_type": "execute_result"
    }
   ],
   "source": [
    "len(dir(random))"
   ]
  },
  {
   "cell_type": "code",
   "execution_count": 142,
   "metadata": {},
   "outputs": [
    {
     "data": {
      "text/plain": [
       "array([[0.88742997, 0.85252711, 0.2929136 ],\n",
       "       [0.9871135 , 0.46516833, 0.43254872],\n",
       "       [0.22701271, 0.20260579, 0.41832967]])"
      ]
     },
     "execution_count": 142,
     "metadata": {},
     "output_type": "execute_result"
    }
   ],
   "source": [
    "m7 = np.random.random((3,3)) # library.module.method\n",
    "m7"
   ]
  },
  {
   "cell_type": "code",
   "execution_count": 146,
   "metadata": {},
   "outputs": [
    {
     "data": {
      "text/plain": [
       "1"
      ]
     },
     "execution_count": 146,
     "metadata": {},
     "output_type": "execute_result"
    }
   ],
   "source": [
    "m7 = np.random.randint(1,10)\n",
    "m7"
   ]
  },
  {
   "cell_type": "code",
   "execution_count": 150,
   "metadata": {},
   "outputs": [
    {
     "data": {
      "text/plain": [
       "array([18, 24, 61, 70])"
      ]
     },
     "execution_count": 150,
     "metadata": {},
     "output_type": "execute_result"
    }
   ],
   "source": [
    "m7 = np.random.randint(1,100, 4)\n",
    "m7"
   ]
  },
  {
   "cell_type": "code",
   "execution_count": 158,
   "metadata": {
    "collapsed": true
   },
   "outputs": [
    {
     "data": {
      "text/plain": [
       "array([[[0.39955826, 0.81363852, 0.9424562 , 0.23029757, 0.27359745,\n",
       "         0.98027605, 0.54709322, 0.83558296, 0.63701479, 0.42236757],\n",
       "        [0.13620702, 0.55356932, 0.49918025, 0.27274826, 0.47912822,\n",
       "         0.88071389, 0.18400977, 0.68191179, 0.33562103, 0.59879114],\n",
       "        [0.04476347, 0.2769967 , 0.73515257, 0.94628866, 0.37191351,\n",
       "         0.98636466, 0.51274892, 0.43192509, 0.90495998, 0.51349836]],\n",
       "\n",
       "       [[0.80088595, 0.09226554, 0.57621046, 0.01477827, 0.89369427,\n",
       "         0.41186645, 0.81931835, 0.69893205, 0.43901596, 0.70028059],\n",
       "        [0.43511805, 0.73953841, 0.03385879, 0.38011401, 0.17814679,\n",
       "         0.20364291, 0.289096  , 0.30782347, 0.18977412, 0.31568808],\n",
       "        [0.07864223, 0.19867962, 0.3789665 , 0.05844961, 0.48216593,\n",
       "         0.55630763, 0.54452808, 0.76626944, 0.19029093, 0.86169269]],\n",
       "\n",
       "       [[0.46786065, 0.19649507, 0.62564514, 0.45614665, 0.51217027,\n",
       "         0.50045585, 0.67505188, 0.27272944, 0.94882211, 0.23392208],\n",
       "        [0.42586314, 0.75526343, 0.45953545, 0.43934992, 0.4275877 ,\n",
       "         0.6136354 , 0.29453079, 0.56319134, 0.97940724, 0.8036789 ],\n",
       "        [0.65566965, 0.02757927, 0.23643029, 0.72783392, 0.0980866 ,\n",
       "         0.67353736, 0.91756003, 0.142505  , 0.53861134, 0.91760372]]])"
      ]
     },
     "execution_count": 158,
     "metadata": {},
     "output_type": "execute_result"
    }
   ],
   "source": [
    "m8 = np.random.rand(3,3,10)\n",
    "m8"
   ]
  },
  {
   "cell_type": "code",
   "execution_count": 155,
   "metadata": {},
   "outputs": [
    {
     "data": {
      "text/plain": [
       "3"
      ]
     },
     "execution_count": 155,
     "metadata": {},
     "output_type": "execute_result"
    }
   ],
   "source": [
    "m8.ndim"
   ]
  },
  {
   "cell_type": "code",
   "execution_count": 162,
   "metadata": {
    "collapsed": true
   },
   "outputs": [
    {
     "data": {
      "text/plain": [
       "array([[[ 0.36135861,  0.96679545, -0.19868128,  1.05323542,\n",
       "          0.69173096,  0.95904891,  1.02086594,  0.63551371,\n",
       "         -0.7650153 ,  1.2548712 ],\n",
       "        [ 1.16670788, -1.39261213, -0.98423363,  1.37644577,\n",
       "         -1.43538195,  0.62911503, -0.71955639,  1.62140761,\n",
       "         -0.37776862, -0.07241801]]])"
      ]
     },
     "execution_count": 162,
     "metadata": {},
     "output_type": "execute_result"
    }
   ],
   "source": [
    "m9 = np.random.randn(1,2,10)\n",
    "m9"
   ]
  },
  {
   "cell_type": "code",
   "execution_count": 168,
   "metadata": {},
   "outputs": [
    {
     "data": {
      "text/plain": [
       "'jakeera'"
      ]
     },
     "execution_count": 168,
     "metadata": {},
     "output_type": "execute_result"
    }
   ],
   "source": [
    "li = [\"jakeera\", \"divya\", \"Balachandra\", \"sri\"]\n",
    "m10 = np.random.choice(li)\n",
    "m10"
   ]
  },
  {
   "cell_type": "code",
   "execution_count": 169,
   "metadata": {},
   "outputs": [
    {
     "name": "stdout",
     "output_type": "stream",
     "text": [
      "0 1 2 3 4 5 6 7 8 9 "
     ]
    }
   ],
   "source": [
    "for i in range(10): # end value is exclusive\n",
    "    print(i, end = \" \")"
   ]
  },
  {
   "cell_type": "code",
   "execution_count": 170,
   "metadata": {},
   "outputs": [
    {
     "data": {
      "text/plain": [
       "array([0, 1, 2, 3, 4, 5, 6, 7, 8, 9])"
      ]
     },
     "execution_count": 170,
     "metadata": {},
     "output_type": "execute_result"
    }
   ],
   "source": [
    "a1 = np.arange(10)\n",
    "a1"
   ]
  },
  {
   "cell_type": "code",
   "execution_count": 171,
   "metadata": {},
   "outputs": [
    {
     "data": {
      "text/plain": [
       "array([10, 12, 14, 16, 18, 20, 22, 24, 26, 28, 30, 32, 34, 36, 38, 40, 42,\n",
       "       44, 46, 48])"
      ]
     },
     "execution_count": 171,
     "metadata": {},
     "output_type": "execute_result"
    }
   ],
   "source": [
    "a1 = np.arange(10, 50, 2)\n",
    "a1"
   ]
  },
  {
   "cell_type": "code",
   "execution_count": 174,
   "metadata": {},
   "outputs": [
    {
     "data": {
      "text/plain": [
       "array([11, 13, 15, 17, 19, 21, 23, 25, 27, 29, 31, 33, 35, 37, 39, 41, 43,\n",
       "       45, 47, 49])"
      ]
     },
     "execution_count": 174,
     "metadata": {},
     "output_type": "execute_result"
    }
   ],
   "source": [
    "a1 = np.arange(11, 50, 2)\n",
    "a1"
   ]
  },
  {
   "cell_type": "code",
   "execution_count": 183,
   "metadata": {},
   "outputs": [
    {
     "data": {
      "text/plain": [
       "array([ 1.        ,  1.77827941,  3.16227766,  5.62341325, 10.        ])"
      ]
     },
     "execution_count": 183,
     "metadata": {},
     "output_type": "execute_result"
    }
   ],
   "source": [
    "a2 = np.logspace(0,1, 5)\n",
    "a2"
   ]
  },
  {
   "cell_type": "code",
   "execution_count": 180,
   "metadata": {},
   "outputs": [
    {
     "data": {
      "text/plain": [
       "50"
      ]
     },
     "execution_count": 180,
     "metadata": {},
     "output_type": "execute_result"
    }
   ],
   "source": [
    "len(a2)"
   ]
  },
  {
   "cell_type": "code",
   "execution_count": 184,
   "metadata": {},
   "outputs": [
    {
     "data": {
      "text/plain": [
       "(array([0, 1, 2, 3, 5, 6], dtype=int64),)"
      ]
     },
     "execution_count": 184,
     "metadata": {},
     "output_type": "execute_result"
    }
   ],
   "source": [
    "a3 = np.nonzero([1,2,3,4,0,7,6,0]) \n",
    "# it returned the index of the elements that are non-zero\n",
    "a3"
   ]
  },
  {
   "cell_type": "markdown",
   "metadata": {},
   "source": [
    "# Task :\n",
    "- Generate 6 digit OTP  using numpy\n",
    "- 567865"
   ]
  },
  {
   "cell_type": "code",
   "execution_count": 185,
   "metadata": {},
   "outputs": [
    {
     "data": {
      "text/plain": [
       "array([7, 3, 5, 4, 3, 7])"
      ]
     },
     "execution_count": 185,
     "metadata": {},
     "output_type": "execute_result"
    }
   ],
   "source": [
    "n1=np.random.randint(0,9,6)\n",
    "n1"
   ]
  },
  {
   "cell_type": "code",
   "execution_count": 187,
   "metadata": {},
   "outputs": [
    {
     "data": {
      "text/plain": [
       "[0, 1, 2, 3, 4, 5, 6, 7, 8, 9]"
      ]
     },
     "execution_count": 187,
     "metadata": {},
     "output_type": "execute_result"
    }
   ],
   "source": [
    "digits = [i for i in range(0, 10)]\n",
    "digits"
   ]
  },
  {
   "cell_type": "code",
   "execution_count": null,
   "metadata": {},
   "outputs": [],
   "source": [
    "for i in range(6):\n",
    "    "
   ]
  },
  {
   "cell_type": "code",
   "execution_count": 191,
   "metadata": {},
   "outputs": [
    {
     "data": {
      "text/plain": [
       "658476"
      ]
     },
     "execution_count": 191,
     "metadata": {},
     "output_type": "execute_result"
    }
   ],
   "source": [
    "import random\n",
    "for i in range(1, 6):\n",
    "    ra = random.randint(100000, 999999)\n",
    "ra"
   ]
  },
  {
   "cell_type": "code",
   "execution_count": null,
   "metadata": {},
   "outputs": [],
   "source": []
  }
 ],
 "metadata": {
  "kernelspec": {
   "display_name": "Python 3",
   "language": "python",
   "name": "python3"
  },
  "language_info": {
   "codemirror_mode": {
    "name": "ipython",
    "version": 3
   },
   "file_extension": ".py",
   "mimetype": "text/x-python",
   "name": "python",
   "nbconvert_exporter": "python",
   "pygments_lexer": "ipython3",
   "version": "3.8.3"
  }
 },
 "nbformat": 4,
 "nbformat_minor": 4
}
